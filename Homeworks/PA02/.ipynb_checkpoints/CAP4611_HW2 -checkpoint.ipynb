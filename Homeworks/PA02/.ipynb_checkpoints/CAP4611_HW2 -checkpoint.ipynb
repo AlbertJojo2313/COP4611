{
 "cells": [
  {
   "cell_type": "markdown",
   "id": "5f1e6678",
   "metadata": {},
   "source": [
    "## INSTRUCTIONS \n",
    "\n",
    "Every learner should submit his/her own homework solutions. However, you are allowed to discuss the homework with each other– but everyone must submit his/her own solution; you may not copy someone else’s solution. \n",
    "\n",
    "The homework consists of two parts:\n",
    "1.\tData manipulation\n",
    "2.\tExploratory Data Analysis\n",
    "\n",
    "Follow the prompts in the attached jupyter notebook. Download the data and place it in your working directory, or modify the path to upload it to your notebook. Add markdown cells to your analysis to include your solutions, comments, answers. Add as many cells as you need, for easy readability comment when possible.\n",
    "Hopefully this homework will help you develop skills, make you understand the flow of an EDA, get you ready for individual work.\n",
    "\n",
    "Submission: Send in both a ipynb and a pdf file of your work. \n",
    "\n",
    "Good luck!\n"
   ]
  },
  {
   "cell_type": "markdown",
   "id": "3f2f64e1",
   "metadata": {},
   "source": [
    "# Part1: Cleaning, wrangling data"
   ]
  },
  {
   "cell_type": "markdown",
   "id": "7888edb2",
   "metadata": {},
   "source": [
    "**Data cleaning focuses on removing inaccurate data from your data set whereas data wrangling focuses on transforming the data's format, typically by converting “raw” data into another format more suitable for use.\n",
    "This excersize uses the traffic_cameras file. Your task is to follow prompts to change, modify your data. Try your best!**"
   ]
  },
  {
   "cell_type": "code",
   "execution_count": 1,
   "id": "38d1560b",
   "metadata": {},
   "outputs": [],
   "source": [
    "#read in libraries\n",
    "import numpy as np\n",
    "from sklearn.datasets import load_iris\n",
    "from sklearn import preprocessing\n",
    "import pandas as pd\n",
    " "
   ]
  },
  {
   "cell_type": "code",
   "execution_count": 2,
   "id": "88d54d37",
   "metadata": {},
   "outputs": [
    {
     "data": {
      "text/html": [
       "<div>\n",
       "<style scoped>\n",
       "    .dataframe tbody tr th:only-of-type {\n",
       "        vertical-align: middle;\n",
       "    }\n",
       "\n",
       "    .dataframe tbody tr th {\n",
       "        vertical-align: top;\n",
       "    }\n",
       "\n",
       "    .dataframe thead th {\n",
       "        text-align: right;\n",
       "    }\n",
       "</style>\n",
       "<table border=\"1\" class=\"dataframe\">\n",
       "  <thead>\n",
       "    <tr style=\"text-align: right;\">\n",
       "      <th></th>\n",
       "      <th>Camera ID</th>\n",
       "      <th>Location Name</th>\n",
       "      <th>Camera Status</th>\n",
       "      <th>Turn on Date</th>\n",
       "      <th>Camera Manufacturer</th>\n",
       "      <th>ATD Location ID</th>\n",
       "      <th>Landmark</th>\n",
       "      <th>Signal Engineer Area</th>\n",
       "      <th>Council District</th>\n",
       "      <th>Jurisdiction</th>\n",
       "      <th>...</th>\n",
       "      <th>CROSS_ST_AKA</th>\n",
       "      <th>COA Intersection ID</th>\n",
       "      <th>Modified Date</th>\n",
       "      <th>IP Comm Status</th>\n",
       "      <th>IP Comm Status Date and Time</th>\n",
       "      <th>Published Screenshots</th>\n",
       "      <th>Screenshot Address</th>\n",
       "      <th>Funding</th>\n",
       "      <th>ID</th>\n",
       "      <th>Location</th>\n",
       "    </tr>\n",
       "  </thead>\n",
       "  <tbody>\n",
       "    <tr>\n",
       "      <th>0</th>\n",
       "      <td>370</td>\n",
       "      <td>PLEASANT VALLEY RD / NUCKOLS CROSSING RD</td>\n",
       "      <td>TURNED_ON</td>\n",
       "      <td>5/24/2018</td>\n",
       "      <td>Advidia</td>\n",
       "      <td>LOC16-003180</td>\n",
       "      <td>NaN</td>\n",
       "      <td>SOUTHEAST</td>\n",
       "      <td>2</td>\n",
       "      <td>AUSTIN FULL PURPOSE</td>\n",
       "      <td>...</td>\n",
       "      <td>NaN</td>\n",
       "      <td>5157009.0</td>\n",
       "      <td>10/28/2021 08:40:00 AM +0000</td>\n",
       "      <td>ONLINE</td>\n",
       "      <td>10/28/2021 08:30:00 AM +0000</td>\n",
       "      <td>NaN</td>\n",
       "      <td>https://cctv.austinmobility.io/image/370.jpg</td>\n",
       "      <td>1/4 Cent</td>\n",
       "      <td>591a10a020eacf2d16669b94</td>\n",
       "      <td>POINT (-97.7449036 30.1844883)</td>\n",
       "    </tr>\n",
       "    <tr>\n",
       "      <th>1</th>\n",
       "      <td>379</td>\n",
       "      <td>BARTON SPRINGS RD / KINNEY AVE</td>\n",
       "      <td>TURNED_ON</td>\n",
       "      <td>5/21/2018</td>\n",
       "      <td>Advidia</td>\n",
       "      <td>LOC16-000640</td>\n",
       "      <td>NaN</td>\n",
       "      <td>SOUTHWEST</td>\n",
       "      <td>5</td>\n",
       "      <td>AUSTIN FULL PURPOSE</td>\n",
       "      <td>...</td>\n",
       "      <td>NaN</td>\n",
       "      <td>5154418.0</td>\n",
       "      <td>10/29/2021 08:45:00 AM +0000</td>\n",
       "      <td>ONLINE</td>\n",
       "      <td>10/29/2021 08:35:00 AM +0000</td>\n",
       "      <td>NaN</td>\n",
       "      <td>https://cctv.austinmobility.io/image/379.jpg</td>\n",
       "      <td>1/4 Cent</td>\n",
       "      <td>591a10a020eacf2d16669ba6</td>\n",
       "      <td>POINT (-97.761467 30.261982)</td>\n",
       "    </tr>\n",
       "    <tr>\n",
       "      <th>2</th>\n",
       "      <td>404</td>\n",
       "      <td>SPRINGDALE RD / OAK SPRINGS DR</td>\n",
       "      <td>TURNED_ON</td>\n",
       "      <td>6/7/2018</td>\n",
       "      <td>Advidia</td>\n",
       "      <td>LOC16-000800</td>\n",
       "      <td>NaN</td>\n",
       "      <td>NORTHEAST</td>\n",
       "      <td>3, 1</td>\n",
       "      <td>AUSTIN FULL PURPOSE</td>\n",
       "      <td>...</td>\n",
       "      <td>NaN</td>\n",
       "      <td>5163165.0</td>\n",
       "      <td>10/29/2021 07:38:00 PM +0000</td>\n",
       "      <td>ONLINE</td>\n",
       "      <td>10/28/2021 08:35:00 AM +0000</td>\n",
       "      <td>NaN</td>\n",
       "      <td>https://cctv.austinmobility.io/image/404.jpg</td>\n",
       "      <td>1/4 Cent</td>\n",
       "      <td>591a10a120eacf2d16669bd8</td>\n",
       "      <td>POINT (-97.6904221 30.2735615)</td>\n",
       "    </tr>\n",
       "    <tr>\n",
       "      <th>3</th>\n",
       "      <td>447</td>\n",
       "      <td>BRAKER LN / STONELAKE BLVD</td>\n",
       "      <td>TURNED_ON</td>\n",
       "      <td>9/9/2016</td>\n",
       "      <td>Advidia</td>\n",
       "      <td>LOC16-003740</td>\n",
       "      <td>NaN</td>\n",
       "      <td>NORTHWEST</td>\n",
       "      <td>7</td>\n",
       "      <td>AUSTIN FULL PURPOSE</td>\n",
       "      <td>...</td>\n",
       "      <td>NaN</td>\n",
       "      <td>5156985.0</td>\n",
       "      <td>10/29/2021 07:49:00 PM +0000</td>\n",
       "      <td>ONLINE</td>\n",
       "      <td>10/23/2021 08:35:00 AM +0000</td>\n",
       "      <td>NaN</td>\n",
       "      <td>https://cctv.austinmobility.io/image/447.jpg</td>\n",
       "      <td>1/4 Cent</td>\n",
       "      <td>591a10a320eacf2d16669c2e</td>\n",
       "      <td>POINT (-97.7392883 30.3989582)</td>\n",
       "    </tr>\n",
       "    <tr>\n",
       "      <th>4</th>\n",
       "      <td>552</td>\n",
       "      <td>EXPOSITION BLVD / WESTOVER RD</td>\n",
       "      <td>TURNED_ON</td>\n",
       "      <td>2/24/2020</td>\n",
       "      <td>Advidia</td>\n",
       "      <td>LOC16-003710</td>\n",
       "      <td>NaN</td>\n",
       "      <td>CENTRAL</td>\n",
       "      <td>10</td>\n",
       "      <td>AUSTIN FULL PURPOSE</td>\n",
       "      <td>...</td>\n",
       "      <td>NaN</td>\n",
       "      <td>5153874.0</td>\n",
       "      <td>10/29/2021 07:47:00 PM +0000</td>\n",
       "      <td>ONLINE</td>\n",
       "      <td>10/20/2021 08:35:00 AM +0000</td>\n",
       "      <td>NaN</td>\n",
       "      <td>https://cctv.austinmobility.io/image/552.jpg</td>\n",
       "      <td>None Identified</td>\n",
       "      <td>5aa6bb0121cbcf4b8b767294</td>\n",
       "      <td>POINT (-97.7643051 30.3030338)</td>\n",
       "    </tr>\n",
       "  </tbody>\n",
       "</table>\n",
       "<p>5 rows × 28 columns</p>\n",
       "</div>"
      ],
      "text/plain": [
       "   Camera ID                              Location Name Camera Status  \\\n",
       "0        370   PLEASANT VALLEY RD / NUCKOLS CROSSING RD     TURNED_ON   \n",
       "1        379             BARTON SPRINGS RD / KINNEY AVE     TURNED_ON   \n",
       "2        404             SPRINGDALE RD / OAK SPRINGS DR     TURNED_ON   \n",
       "3        447                 BRAKER LN / STONELAKE BLVD     TURNED_ON   \n",
       "4        552              EXPOSITION BLVD / WESTOVER RD     TURNED_ON   \n",
       "\n",
       "  Turn on Date Camera Manufacturer ATD Location ID Landmark  \\\n",
       "0    5/24/2018             Advidia    LOC16-003180      NaN   \n",
       "1    5/21/2018             Advidia    LOC16-000640      NaN   \n",
       "2     6/7/2018             Advidia    LOC16-000800      NaN   \n",
       "3     9/9/2016             Advidia    LOC16-003740      NaN   \n",
       "4    2/24/2020             Advidia    LOC16-003710      NaN   \n",
       "\n",
       "  Signal Engineer Area Council District         Jurisdiction  ...  \\\n",
       "0            SOUTHEAST                2  AUSTIN FULL PURPOSE  ...   \n",
       "1            SOUTHWEST                5  AUSTIN FULL PURPOSE  ...   \n",
       "2            NORTHEAST             3, 1  AUSTIN FULL PURPOSE  ...   \n",
       "3            NORTHWEST                7  AUSTIN FULL PURPOSE  ...   \n",
       "4              CENTRAL               10  AUSTIN FULL PURPOSE  ...   \n",
       "\n",
       "  CROSS_ST_AKA  COA Intersection ID                 Modified Date  \\\n",
       "0          NaN            5157009.0  10/28/2021 08:40:00 AM +0000   \n",
       "1          NaN            5154418.0  10/29/2021 08:45:00 AM +0000   \n",
       "2          NaN            5163165.0  10/29/2021 07:38:00 PM +0000   \n",
       "3          NaN            5156985.0  10/29/2021 07:49:00 PM +0000   \n",
       "4          NaN            5153874.0  10/29/2021 07:47:00 PM +0000   \n",
       "\n",
       "   IP Comm Status  IP Comm Status Date and Time  Published Screenshots  \\\n",
       "0          ONLINE  10/28/2021 08:30:00 AM +0000                    NaN   \n",
       "1          ONLINE  10/29/2021 08:35:00 AM +0000                    NaN   \n",
       "2          ONLINE  10/28/2021 08:35:00 AM +0000                    NaN   \n",
       "3          ONLINE  10/23/2021 08:35:00 AM +0000                    NaN   \n",
       "4          ONLINE  10/20/2021 08:35:00 AM +0000                    NaN   \n",
       "\n",
       "                             Screenshot Address          Funding  \\\n",
       "0  https://cctv.austinmobility.io/image/370.jpg         1/4 Cent   \n",
       "1  https://cctv.austinmobility.io/image/379.jpg         1/4 Cent   \n",
       "2  https://cctv.austinmobility.io/image/404.jpg         1/4 Cent   \n",
       "3  https://cctv.austinmobility.io/image/447.jpg         1/4 Cent   \n",
       "4  https://cctv.austinmobility.io/image/552.jpg  None Identified   \n",
       "\n",
       "                         ID                        Location  \n",
       "0  591a10a020eacf2d16669b94  POINT (-97.7449036 30.1844883)  \n",
       "1  591a10a020eacf2d16669ba6    POINT (-97.761467 30.261982)  \n",
       "2  591a10a120eacf2d16669bd8  POINT (-97.6904221 30.2735615)  \n",
       "3  591a10a320eacf2d16669c2e  POINT (-97.7392883 30.3989582)  \n",
       "4  5aa6bb0121cbcf4b8b767294  POINT (-97.7643051 30.3030338)  \n",
       "\n",
       "[5 rows x 28 columns]"
      ]
     },
     "execution_count": 2,
     "metadata": {},
     "output_type": "execute_result"
    }
   ],
   "source": [
    "# Reading the CSV file\n",
    "df = pd.read_csv(\"traffic_cameras.csv\")\n",
    " \n",
    "# Printing top 5 rows\n",
    "df.head()"
   ]
  },
  {
   "cell_type": "markdown",
   "id": "c4f907eb",
   "metadata": {},
   "source": [
    "### 1. How many rows and columns does your data have?"
   ]
  },
  {
   "cell_type": "code",
   "execution_count": null,
   "id": "afcbcf2e",
   "metadata": {},
   "outputs": [],
   "source": [
    "### Your code goes here ###\n",
    "count_rows = df[1,:]"
   ]
  },
  {
   "cell_type": "markdown",
   "id": "e5faa5c9",
   "metadata": {},
   "source": [
    "### 2. What can you tell us about the type of variables we have?"
   ]
  },
  {
   "cell_type": "code",
   "execution_count": null,
   "id": "4842966f",
   "metadata": {},
   "outputs": [],
   "source": [
    "### Your code goes here ###\n"
   ]
  },
  {
   "cell_type": "code",
   "execution_count": null,
   "id": "976b3281",
   "metadata": {},
   "outputs": [],
   "source": [
    "### Your asnwer should go in here ### change the cell to markdown\n",
    "\n",
    "\n",
    "\n",
    "\n"
   ]
  },
  {
   "cell_type": "markdown",
   "id": "75da969d",
   "metadata": {},
   "source": [
    "### 3. Delete only the columns that have all null values, name it df1 (nothing else, but null)"
   ]
  },
  {
   "cell_type": "code",
   "execution_count": null,
   "id": "be53db8d",
   "metadata": {},
   "outputs": [],
   "source": [
    "### Your code goes here ###\n",
    "\n",
    "\n"
   ]
  },
  {
   "cell_type": "code",
   "execution_count": null,
   "id": "3f42e860",
   "metadata": {},
   "outputs": [],
   "source": [
    "df1.info()"
   ]
  },
  {
   "cell_type": "markdown",
   "id": "5a4e6533",
   "metadata": {},
   "source": [
    "### 4. Dropp columns that have (any) null values name it df2"
   ]
  },
  {
   "cell_type": "code",
   "execution_count": null,
   "id": "b40f9dbd",
   "metadata": {},
   "outputs": [],
   "source": [
    "### Your code goes here ###\n"
   ]
  },
  {
   "cell_type": "code",
   "execution_count": null,
   "id": "bd374d91",
   "metadata": {},
   "outputs": [],
   "source": [
    "df2.info()\n",
    "df2.shape"
   ]
  },
  {
   "cell_type": "markdown",
   "id": "bee9f584",
   "metadata": {},
   "source": [
    "### 5. Rename column names in df2 so they are more usable (name the new dataframe df3) to the followings: cam_id, loc_name, cam_stat, atd_loc_id, loc_type, date, comm_stat, comm_stat_date, screen_addr, id, location"
   ]
  },
  {
   "cell_type": "code",
   "execution_count": null,
   "id": "bd4eb82a",
   "metadata": {},
   "outputs": [],
   "source": [
    "### Your code goes here ###\n"
   ]
  },
  {
   "cell_type": "code",
   "execution_count": null,
   "id": "1c571fb9",
   "metadata": {},
   "outputs": [],
   "source": [
    "df3.head"
   ]
  },
  {
   "cell_type": "markdown",
   "id": "d4bf751e",
   "metadata": {},
   "source": [
    "### 6. Split \"date\" column into two  new columns within df3 ('Dates' and 'Time') /modify df3 data/"
   ]
  },
  {
   "cell_type": "code",
   "execution_count": null,
   "id": "1a6d0645",
   "metadata": {},
   "outputs": [],
   "source": [
    "### Your code goes here ###\n"
   ]
  },
  {
   "cell_type": "code",
   "execution_count": null,
   "id": "06a52aca",
   "metadata": {},
   "outputs": [],
   "source": [
    "df3.head"
   ]
  },
  {
   "cell_type": "markdown",
   "id": "51bad5fd",
   "metadata": {},
   "source": [
    "### 7. Split atd_loc into two new columns 'Loc' and 'code' within df3"
   ]
  },
  {
   "cell_type": "code",
   "execution_count": null,
   "id": "73392bc9",
   "metadata": {},
   "outputs": [],
   "source": [
    "### Your code goes here ###\n"
   ]
  },
  {
   "cell_type": "code",
   "execution_count": null,
   "id": "8dae84ff",
   "metadata": {
    "scrolled": true
   },
   "outputs": [],
   "source": [
    "df3.head"
   ]
  },
  {
   "cell_type": "markdown",
   "id": "0bf32376",
   "metadata": {},
   "source": [
    "### 8. What are the unique values in loc_type?"
   ]
  },
  {
   "cell_type": "code",
   "execution_count": null,
   "id": "6e24c032",
   "metadata": {},
   "outputs": [],
   "source": [
    "### Your code goes here ###\n"
   ]
  },
  {
   "cell_type": "markdown",
   "id": "84263370",
   "metadata": {},
   "source": [
    "### 9. Replace 'ROADWAY' to '0',  'BUILDING' to '1' in the loc_type column within df3"
   ]
  },
  {
   "cell_type": "code",
   "execution_count": null,
   "id": "6e47a66e",
   "metadata": {},
   "outputs": [],
   "source": [
    "### Your code goes here ###\n"
   ]
  },
  {
   "cell_type": "code",
   "execution_count": null,
   "id": "dae2bb74",
   "metadata": {},
   "outputs": [],
   "source": [
    "df3.head"
   ]
  },
  {
   "cell_type": "code",
   "execution_count": null,
   "id": "a4fd78da",
   "metadata": {},
   "outputs": [],
   "source": [
    "df3.loc_type.unique()"
   ]
  },
  {
   "cell_type": "markdown",
   "id": "903acc12",
   "metadata": {},
   "source": [
    "### 10. Split on on '/' the loc_name column into two new variables 'corner1', 'corner2' "
   ]
  },
  {
   "cell_type": "code",
   "execution_count": null,
   "id": "e7dbdb07",
   "metadata": {},
   "outputs": [],
   "source": [
    "### Your code goes here ###\n"
   ]
  },
  {
   "cell_type": "code",
   "execution_count": null,
   "id": "d65e0e81",
   "metadata": {},
   "outputs": [],
   "source": [
    "df3.head"
   ]
  },
  {
   "cell_type": "markdown",
   "id": "ccdcaabd",
   "metadata": {},
   "source": [
    "# Part2: Exploratory Data Analysis (EDA)"
   ]
  },
  {
   "cell_type": "markdown",
   "id": "a07bda12",
   "metadata": {},
   "source": [
    "Exploratory Data Analysis refers to the critical process of performing initial investigations on data so as to discover patterns,to spot anomalies,to test hypothesis and to check assumptions with the help of summary statistics and graphical representations.\n",
    "\n",
    "Follow the lecture notes for ideas of how to perform EDA on your dataset. For help, here are the steps we talked about:\n",
    "\n",
    "***Steps in EDA***:\n",
    "1. Provide descriptions of your sample and features\n",
    "2. Check for missing data\n",
    "3. Identify the shape of your data\n",
    "4. Identify significant correlations\n",
    "5. Spot/deal with outliers in the dataset\n",
    "\n",
    "These steps are a guidline. Try different things and share your insights about the dataset.\n",
    "\n",
    "**Don't forget to add \"markdown\" cells to include your findings or to explain what you are doing** "
   ]
  },
  {
   "cell_type": "code",
   "execution_count": null,
   "id": "2ae8d8b2",
   "metadata": {},
   "outputs": [],
   "source": [
    "# importing packages\n",
    "import seaborn as sns\n",
    "import matplotlib.pyplot as plt\n",
    "%matplotlib inline"
   ]
  },
  {
   "cell_type": "code",
   "execution_count": null,
   "id": "1d83766a",
   "metadata": {},
   "outputs": [],
   "source": [
    "# Reading the CSV file\n",
    "df_fish = pd.read_csv(\"Fish.csv\")\n",
    " \n",
    "# Printing top 5 rows\n",
    "df_fish.head()"
   ]
  },
  {
   "cell_type": "code",
   "execution_count": null,
   "id": "82b33dc6",
   "metadata": {},
   "outputs": [],
   "source": []
  }
 ],
 "metadata": {
  "kernelspec": {
   "display_name": "Python 3 (ipykernel)",
   "language": "python",
   "name": "python3"
  },
  "language_info": {
   "codemirror_mode": {
    "name": "ipython",
    "version": 3
   },
   "file_extension": ".py",
   "mimetype": "text/x-python",
   "name": "python",
   "nbconvert_exporter": "python",
   "pygments_lexer": "ipython3",
   "version": "3.11.5"
  }
 },
 "nbformat": 4,
 "nbformat_minor": 5
}
