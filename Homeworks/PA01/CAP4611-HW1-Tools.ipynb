{
 "cells": [
  {
   "cell_type": "markdown",
   "id": "c00bf530",
   "metadata": {},
   "source": [
    "# Homework 2 - Tools\n",
    "\n",
    "You will write code and discussion texts into code and text cells in this notebook. \n",
    "\n",
    "If a block starts with \\#TODO:, this means that you need to write something there. \n",
    "\n",
    "\n",
    "__Grading:__ The total points achievable are 10. You get 2 points for submission. Each subproblem gives you one point. "
   ]
  },
  {
   "cell_type": "code",
   "execution_count": 21,
   "id": "a440a191",
   "metadata": {},
   "outputs": [],
   "source": [
    "import pandas as pd\n",
    "import numpy as np\n",
    "import matplotlib.pyplot as plt"
   ]
  },
  {
   "cell_type": "markdown",
   "id": "691d1a9f",
   "metadata": {},
   "source": [
    "## P1: numpy array creation and printing\n",
    "\n",
    "* Create a python list implementing a 5x5 array, with each element having , filled in with x^2 + y^2. \n",
    "* Create from it the corresponding numpy array \"arr\"\n",
    "* Print the shape of the array (should be 5 by 5)\n",
    "* Print the type of the array (should be float64)"
   ]
  },
  {
   "cell_type": "code",
   "execution_count": 22,
   "id": "4f94fcd7",
   "metadata": {},
   "outputs": [
    {
     "name": "stdout",
     "output_type": "stream",
     "text": [
      "(5, 5)\n",
      "float64\n"
     ]
    }
   ],
   "source": [
    "# TODO: implement here\n",
    "myList = []\n",
    "\n",
    "for i in range (5):\n",
    "    l = []\n",
    "    for j in range(5):\n",
    "        l.append((i**2)+(j**2))\n",
    "        \n",
    "    \n",
    "    myList.append(l)\n",
    "\n",
    "\n",
    "narray = np.array(myList)\n",
    "newarray=narray.astype(float)\n",
    "\n",
    "#Display Shape & Type\n",
    "print(narray.shape)\n",
    "print(newarray.dtype)\n",
    "\n",
    "\n"
   ]
  },
  {
   "cell_type": "markdown",
   "id": "fdb41036",
   "metadata": {},
   "source": [
    "## P2: array slicing and comparisons\n",
    "\n",
    "* Extract the second column from arr\n",
    "* Extract the second row from arr\n",
    "* Check whether they are equal and print accordingly \n",
    "* Create a new array arr2 which is a copy of the transpose of the original array.\n"
   ]
  },
  {
   "cell_type": "code",
   "execution_count": 24,
   "id": "2b3cf980",
   "metadata": {},
   "outputs": [
    {
     "name": "stdout",
     "output_type": "stream",
     "text": [
      "Equals\n"
     ]
    }
   ],
   "source": [
    "# TODO: implement here\n",
    "\n",
    "#Seperating by rows and cols\n",
    "colarr = newarray[:,1]\n",
    "rowarr = newarray[1]\n",
    "\n",
    "result = (colarr == rowarr).all()\n",
    "\n",
    "#Checking the condition and printing\n",
    "if(result):\n",
    "    print(\"Equals\")\n",
    "\n",
    "arr2 = np.transpose(newarray)\n",
    "\n"
   ]
  },
  {
   "cell_type": "markdown",
   "id": "7ef0bbee",
   "metadata": {},
   "source": [
    "## P3: Using the random number generator \n",
    "* Create a random number generator in numpy.\n",
    "* Create a numpy array A of size 17 by 17 filled with zeros. \n",
    "* Fill the array with number drawn from a uniform distribution between 30.0 and 100.0\n",
    "* Print the array. "
   ]
  },
  {
   "cell_type": "code",
   "execution_count": 26,
   "id": "5f2e97b8",
   "metadata": {
    "scrolled": false
   },
   "outputs": [
    {
     "name": "stdout",
     "output_type": "stream",
     "text": [
      "[[84.01386708 68.79567491 92.61343024 68.37312663 80.77605394 48.60854947\n",
      "  36.32929578 80.07081453 98.66603532 60.75100422 41.20498107 50.77111819\n",
      "  70.7785972  91.65609492 74.14671852 30.51107673 96.40059257]\n",
      " [47.06124317 44.18215368 96.18157126 67.07861823 41.32295371 35.61112263\n",
      "  97.920964   99.22204562 43.41371508 61.17747384 76.19676421 30.1302604\n",
      "  75.90125628 47.18379159 76.82378096 54.51431945 94.73562925]\n",
      " [82.13231591 47.20559003 41.48298491 63.12559192 98.41800279 84.88895821\n",
      "  62.54154339 37.21372307 84.44569079 85.39035308 70.98657291 44.61123783\n",
      "  70.96614823 95.09082027 86.78176139 40.33563607 35.96179385]\n",
      " [47.84605554 66.12414969 73.75309749 84.38609637 96.06510217 74.65068034\n",
      "  47.94703203 94.76171712 85.22247801 51.4137111  80.98950291 31.79296246\n",
      "  43.36826847 99.79777309 31.57207057 74.37391569 54.33594529]\n",
      " [51.21152594 56.18585071 74.77982426 55.86407382 52.67572209 99.77955448\n",
      "  69.32101201 59.71783381 41.3874986  77.43854607 77.51312275 90.4387712\n",
      "  83.96717491 73.1577588  34.0482719  97.05131647 42.71041225]\n",
      " [50.15133092 92.85989546 64.78653724 35.40430265 72.02879586 81.69494701\n",
      "  43.34293362 86.50688917 57.4482573  95.69056196 98.90315526 75.94677053\n",
      "  42.7992213  85.43548148 62.21833684 34.02660257 40.56294056]\n",
      " [86.20834751 80.88872219 80.81393048 48.69686939 94.09523436 91.50426914\n",
      "  42.81990149 61.60061108 89.69302461 61.31451126 61.65833179 58.42055607\n",
      "  69.56202393 96.54913312 98.9025179  52.0007539  97.21241755]\n",
      " [47.59552697 38.49192731 67.61975331 81.75918093 68.97780278 88.2899108\n",
      "  79.72592536 71.27431387 75.2144798  37.1842712  60.16297888 77.94676844\n",
      "  89.45744714 77.99661835 30.24708926 77.35132122 44.10879421]\n",
      " [46.78907404 34.8901558  57.58584539 32.30427967 75.76286073 44.15550605\n",
      "  55.80107082 37.94995716 96.87937151 92.78077736 46.89150419 86.89206209\n",
      "  64.77549306 77.66661186 31.84679453 41.93868768 74.40196207]\n",
      " [44.65047897 71.00532074 85.56965495 51.71701333 59.15128666 51.1235646\n",
      "  54.51966717 36.43737847 91.77255848 66.37911206 46.44597476 42.98170608\n",
      "  41.47122941 47.13188293 68.81708571 50.28588857 69.37913192]\n",
      " [60.46573662 87.91562525 79.09875019 48.01344578 99.28046262 50.57282236\n",
      "  58.57169479 87.72527431 49.67451373 67.58563596 62.8619029  49.93364962\n",
      "  30.80515325 79.81371504 48.56697293 84.63891801 77.11392255]\n",
      " [51.0706427  75.45135796 61.97845074 91.89026266 44.10184283 87.51829997\n",
      "  82.54085262 82.876938   57.06901339 86.91462308 98.35926572 75.50882401\n",
      "  72.32164496 42.1167263  49.96992353 33.66220559 67.92564632]\n",
      " [40.26277984 99.00283575 84.86993228 42.37442806 40.31741166 84.00724558\n",
      "  59.64027909 57.90964861 49.11548816 80.58840344 58.00212246 72.12185184\n",
      "  81.45726582 44.76758834 81.12059192 62.69981047 57.17949614]\n",
      " [30.6204015  52.35970459 40.30834156 39.35911473 71.06895122 50.80857532\n",
      "  80.8647853  36.34889827 76.0802647  71.1227165  72.01744611 30.49211788\n",
      "  54.61795635 83.76593386 34.06714542 90.06371485 93.13506487]\n",
      " [88.96680959 71.16045018 46.43370497 48.63250746 74.90288737 78.18905577\n",
      "  45.68954282 52.65588944 73.72739953 98.56882956 63.59156902 69.12548994\n",
      "  63.59948007 63.54830967 67.08313971 45.39960902 60.8887761 ]\n",
      " [65.17945668 54.24306579 98.53033007 61.85067811 61.02088885 87.15612367\n",
      "  55.31117253 57.38996281 59.52690539 35.03808467 49.39342678 82.44205135\n",
      "  55.79773616 59.43120069 87.73530189 67.74979407 48.70881616]\n",
      " [92.1516168  69.06736183 99.59020287 59.40685112 50.48348665 91.63669352\n",
      "  82.40766562 92.49053949 82.6009989  96.69953154 45.06188411 75.79467067\n",
      "  64.60091024 59.21602982 79.59327075 49.54723058 82.55263528]]\n"
     ]
    }
   ],
   "source": [
    "# TODO: implement here\n",
    "\n",
    "#Dimension of Array\n",
    "s = (17,17)\n",
    "\n",
    "#Arrays\n",
    "zeroArray = np.zeros(s)\n",
    "randArray = np.random.uniform(30,100,s)\n",
    "\n",
    "#Printing the array\n",
    "print(randArray)\n",
    "\n"
   ]
  },
  {
   "cell_type": "markdown",
   "id": "a014f710",
   "metadata": {},
   "source": [
    "## P4: solving a system of linear equations with numpy\n",
    "* Consider a system of 17 linear equations. \n",
    "* The parameters of the unknowns are the same as the array A created above.\n",
    "* The left side of the equations is all 25.0 for each equation. Create a vector b for this. \n",
    "* Solve this system of equations using numpy.linalg.solve. Print out the solutions.\n",
    "* Solve the save system of equations, by taking the inverse of the A array and left multipying b with it. Print out the solutions. \n",
    "* Check if the solutions are identical and print \"Solutions are identical\" if they are and \"Solutions are not identical\" if they are not. Discuss it in form of comments in the code. \n"
   ]
  },
  {
   "cell_type": "code",
   "execution_count": 28,
   "id": "6bf4d2d1",
   "metadata": {},
   "outputs": [
    {
     "name": "stdout",
     "output_type": "stream",
     "text": [
      "Solution using linear solving:\n",
      "[ 0.00632769  0.03219587 -0.02598965  0.04362935 -0.02294095 -0.11905952\n",
      "  0.00599181  0.02193071  0.10965888  0.01855555  0.07744381  0.08607716\n",
      "  0.01355385  0.001846    0.08967548  0.11517609 -0.03584958]\n",
      "\n",
      "Solution using inverse:\n",
      "[ 0.00632769  0.03219587 -0.02598965  0.04362935 -0.02294095 -0.11905952\n",
      "  0.00599181  0.02193071  0.10965888  0.01855555  0.07744381  0.08607716\n",
      "  0.01355385  0.001846    0.08967548  0.11517609 -0.03584958]\n",
      "\n",
      "Solutions are identical.\n"
     ]
    }
   ],
   "source": [
    "# TODO: implement here\n",
    "\n",
    "vector_b = np.full(17,25.0)\n",
    "solution = np.linalg.solve(randArray,vector_b)\n",
    "\n",
    "#inverse\n",
    "inverse = np.linalg.inv(randArray)\n",
    "solution_inv = np.dot(inverse,vector_b)\n",
    "\n",
    "# Print out the solutions\n",
    "print(\"Solution using linear solving:\")\n",
    "print(solution)\n",
    "\n",
    "print(\"\\nSolution using inverse:\")\n",
    "print(solution_inv)\n",
    "\n",
    "# Condition for identical\n",
    "if np.allclose(solution, solution_inv):\n",
    "    print(\"\\nSolutions are identical.\")\n",
    "else:\n",
    "    print(\"\\nSolutions are not identical.\")\n"
   ]
  },
  {
   "cell_type": "markdown",
   "id": "acd1cb25",
   "metadata": {},
   "source": [
    "## P5: create a pandas dataframe by reading a csv file\n",
    "* Read in the \"houses_Madrid.csv\" dataset which contains information about houses and apartments sold in Madrid, and create a pandas dataframe called \"df\"\n",
    "* Print out the number of rows in the dataframe\n",
    "* Print out the columns of the dataframe\n"
   ]
  },
  {
   "cell_type": "code",
   "execution_count": 29,
   "id": "2b3f814f",
   "metadata": {},
   "outputs": [
    {
     "name": "stdout",
     "output_type": "stream",
     "text": [
      "Number of rows:  21742\n",
      "Cols:  Index(['Unnamed: 0', 'id', 'title', 'subtitle', 'sq_mt_built', 'sq_mt_useful',\n",
      "       'n_rooms', 'n_bathrooms', 'n_floors', 'sq_mt_allotment', 'latitude',\n",
      "       'longitude', 'raw_address', 'is_exact_address_hidden', 'street_name',\n",
      "       'street_number', 'portal', 'floor', 'is_floor_under', 'door',\n",
      "       'neighborhood_id', 'operation', 'rent_price', 'rent_price_by_area',\n",
      "       'is_rent_price_known', 'buy_price', 'buy_price_by_area',\n",
      "       'is_buy_price_known', 'house_type_id', 'is_renewal_needed',\n",
      "       'is_new_development', 'built_year', 'has_central_heating',\n",
      "       'has_individual_heating', 'are_pets_allowed', 'has_ac',\n",
      "       'has_fitted_wardrobes', 'has_lift', 'is_exterior', 'has_garden',\n",
      "       'has_pool', 'has_terrace', 'has_balcony', 'has_storage_room',\n",
      "       'is_furnished', 'is_kitchen_equipped', 'is_accessible',\n",
      "       'has_green_zones', 'energy_certificate', 'has_parking',\n",
      "       'has_private_parking', 'has_public_parking',\n",
      "       'is_parking_included_in_price', 'parking_price', 'is_orientation_north',\n",
      "       'is_orientation_west', 'is_orientation_south', 'is_orientation_east'],\n",
      "      dtype='object')\n"
     ]
    }
   ],
   "source": [
    "# TODO: implement here\n",
    "\n",
    "#Import data\n",
    "df = pd.read_csv(\"houses_Madrid.csv\")\n",
    "\n",
    "#Printing the data\n",
    "print(\"Number of rows: \", df.shape[0])\n",
    "print(\"Cols: \", df.columns)"
   ]
  },
  {
   "cell_type": "markdown",
   "id": "db89d894",
   "metadata": {},
   "source": [
    "## P6: Selecting columns from a pandas dataframe and calculating values\n",
    "* Select the \"buy_price\" column from the dataframe. \n",
    "* Calculate the average buying price and print it out. \n",
    "* Calculate the maximum buying price and print it out."
   ]
  },
  {
   "cell_type": "code",
   "execution_count": 37,
   "id": "50bcbc63",
   "metadata": {},
   "outputs": [
    {
     "name": "stdout",
     "output_type": "stream",
     "text": [
      "Average Price: 653735.65\n",
      "Max Price: 8800000\n"
     ]
    }
   ],
   "source": [
    "# TODO: implement here\n",
    "\n",
    "#selecting a column\n",
    "df[\"buy_price\"]\n",
    "\n",
    "\n",
    "#calculating max\n",
    "max_price = df[\"buy_price\"].max()\n",
    "\n",
    "#Printing Average and Max Price\n",
    "print(\"Average Price:\", round(df[\"buy_price\"].mean(),2))\n",
    "print(\"Max Price:\",max_price)\n"
   ]
  },
  {
   "cell_type": "markdown",
   "id": "1cff514e",
   "metadata": {},
   "source": [
    "## P7: Selecting rows from a pandas dataframe\n",
    "* Select the rows from df where the price was larger than one million and put it into a new dataframe df2\n",
    "* Print out how many houses were like this. "
   ]
  },
  {
   "cell_type": "code",
   "execution_count": 38,
   "id": "02b9b261",
   "metadata": {},
   "outputs": [
    {
     "name": "stdout",
     "output_type": "stream",
     "text": [
      "3642\n"
     ]
    }
   ],
   "source": [
    "# TODO: implement here\n",
    "df2 = df[df[\"buy_price\"] > 1000000]\n",
    "\n",
    "#Displaying the data\n",
    "print(len(df2))"
   ]
  },
  {
   "cell_type": "markdown",
   "id": "d4e22835",
   "metadata": {},
   "source": [
    "## P8 - part 1: create a scatterplot in matplotlib\n",
    "* From the df dataset, select the \"sq_mt_built\" and \"buy_price\" columns\n",
    "* Convert them to numpy arrays.\n",
    "* Using the matplotlib.pyplot interface, create a scatterplot of the buying price (on the y axis) against the square meters area (on the x axis)"
   ]
  },
  {
   "cell_type": "code",
   "execution_count": 40,
   "id": "848c94f2",
   "metadata": {},
   "outputs": [
    {
     "data": {
      "image/png": "[encoded data removed]",
      "text/plain": [
       "<Figure size 640x480 with 1 Axes>"
      ]
     },
     "metadata": {},
     "output_type": "display_data"
    }
   ],
   "source": [
    "# TODO: implement here\n",
    "sq_mt_built = df[\"sq_mt_built\"]\n",
    "buy_price = df[\"buy_price\"]\n",
    "\n",
    "#Converting to np_arrays\n",
    "n_array1 = np.array(sq_mt_built)\n",
    "n_array2 = np.array(buy_price)\n",
    "\n",
    "#Matplot\n",
    "plt.scatter(n_array1, n_array2)\n",
    "plt.xlabel(\"Square Meter Built\")\n",
    "plt.ylabel(\"Buying Price\")\n",
    "plt.title(\"Square Meter Built vs. Buying Price\")\n",
    "plt.show()"
   ]
  },
  {
   "cell_type": "markdown",
   "id": "18d12178",
   "metadata": {},
   "source": [
    "## P8 - part 2: Create a line plot in matplotlib\n",
    "* Take the numpy array arr created in P1. \n",
    "* Plot its 2 and 3 rows using matplotlib pyplot. \n",
    "* The results should be two lines of different colors. The y axis is the values. The x axis is the indexes (0,1,2,...)"
   ]
  },
  {
   "cell_type": "code",
   "execution_count": 20,
   "id": "25790648",
   "metadata": {},
   "outputs": [
    {
     "data": {
      "image/png": "[encoded data removed]",
      "text/plain": [
       "<Figure size 640x480 with 1 Axes>"
      ]
     },
     "metadata": {},
     "output_type": "display_data"
    }
   ],
   "source": [
    "# TODO: implement here\n",
    "row_2 = narray[1,:]\n",
    "row_3 = narray[2,:]\n",
    "\n",
    "#Matplot\n",
    "plt.plot(row_2, label = \"Row 2\")\n",
    "plt.plot(row_3, label = \"Row 3\")\n",
    "plt.legend()\n",
    "\n",
    "plt.show()"
   ]
  },
  {
   "cell_type": "code",
   "execution_count": null,
   "id": "94afdc1a",
   "metadata": {},
   "outputs": [],
   "source": []
  }
 ],
 "metadata": {
  "kernelspec": {
   "display_name": "Python 3 (ipykernel)",
   "language": "python",
   "name": "python3"
  },
  "language_info": {
   "codemirror_mode": {
    "name": "ipython",
    "version": 3
   },
   "file_extension": ".py",
   "mimetype": "text/x-python",
   "name": "python",
   "nbconvert_exporter": "python",
   "pygments_lexer": "ipython3",
   "version": "3.11.5"
  }
 },
 "nbformat": 4,
 "nbformat_minor": 5
}
