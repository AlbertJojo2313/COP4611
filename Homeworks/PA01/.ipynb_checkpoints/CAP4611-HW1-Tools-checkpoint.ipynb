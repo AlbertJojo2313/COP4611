{
 "cells": [
  {
   "cell_type": "markdown",
   "id": "c00bf530",
   "metadata": {},
   "source": [
    "# Homework 2 - Tools\n",
    "\n",
    "You will write code and discussion texts into code and text cells in this notebook. \n",
    "\n",
    "If a block starts with \\#TODO:, this means that you need to write something there. \n",
    "\n",
    "\n",
    "__Grading:__ The total points achievable are 10. You get 2 points for submission. Each subproblem gives you one point. "
   ]
  },
  {
   "cell_type": "code",
   "execution_count": 13,
   "id": "a440a191",
   "metadata": {},
   "outputs": [],
   "source": [
    "import pandas as pd\n",
    "import numpy as np\n",
    "import matplotlib.pyplot as plt"
   ]
  },
  {
   "cell_type": "markdown",
   "id": "691d1a9f",
   "metadata": {},
   "source": [
    "## P1: numpy array creation and printing\n",
    "\n",
    "* Create a python list implementing a 5x5 array, with each element having , filled in with x^2 + y^2. \n",
    "* Create from it the corresponding numpy array \"arr\"\n",
    "* Print the shape of the array (should be 5 by 5)\n",
    "* Print the type of the array (should be float64)"
   ]
  },
  {
   "cell_type": "code",
   "execution_count": 26,
   "id": "4f94fcd7",
   "metadata": {},
   "outputs": [
    {
     "name": "stdout",
     "output_type": "stream",
     "text": [
      "[[ 0  1  4  9 16]\n",
      " [ 1  2  5 10 17]\n",
      " [ 4  5  8 13 20]\n",
      " [ 9 10 13 18 25]\n",
      " [16 17 20 25 32]]\n",
      "(5, 5)\n",
      "float64\n"
     ]
    }
   ],
   "source": [
    "# TODO: implement here\n",
    "myList = []\n",
    "\n",
    "for i in range (5):\n",
    "    l = []\n",
    "    for j in range(5):\n",
    "        l.append((i**2)+(j**2))\n",
    "        \n",
    "    \n",
    "    myList.append(l)\n",
    "\n",
    "\n",
    "narray = np.array(myList)\n",
    "newarray=narray.astype(float)\n",
    "print(narray)\n",
    "\n",
    "print(narray.shape)\n",
    "print(newarray.dtype)\n",
    "\n",
    "\n"
   ]
  },
  {
   "cell_type": "markdown",
   "id": "fdb41036",
   "metadata": {},
   "source": [
    "## P2: array slicing and comparisons\n",
    "\n",
    "* Extract the second column from arr\n",
    "* Extract the second row from arr\n",
    "* Check whether they are equal and print accordingly \n",
    "* Create a new array arr2 which is a copy of the transpose of the original array.\n"
   ]
  },
  {
   "cell_type": "code",
   "execution_count": 34,
   "id": "2b3cf980",
   "metadata": {},
   "outputs": [
    {
     "name": "stdout",
     "output_type": "stream",
     "text": [
      "[ 1.  2.  5. 10. 17.]\n",
      "[ 1.  2.  5. 10. 17.]\n",
      "Equals\n",
      "[[ 0.  1.  4.  9. 16.]\n",
      " [ 1.  2.  5. 10. 17.]\n",
      " [ 4.  5.  8. 13. 20.]\n",
      " [ 9. 10. 13. 18. 25.]\n",
      " [16. 17. 20. 25. 32.]]\n"
     ]
    }
   ],
   "source": [
    "# TODO: implement here\n",
    "print(newarray[:,1])\n",
    "print(newarray[1])\n",
    "\n",
    "colarr = newarray[:,1]\n",
    "rowarr = newarray[1]\n",
    "\n",
    "result = (colarr == rowarr).all()\n",
    "\n",
    "if(result):\n",
    "    print(\"Equals\")\n",
    "\n",
    "arr2 = np.transpose(newarray)\n",
    "print(arr2)\n"
   ]
  },
  {
   "cell_type": "markdown",
   "id": "7ef0bbee",
   "metadata": {},
   "source": [
    "## P3: Using the random number generator \n",
    "* Create a random number generator in numpy.\n",
    "* Create a numpy array A of size 17 by 17 filled with zeros. \n",
    "* Fill the array with number drawn from a uniform distribution between 30.0 and 100.0\n",
    "* Print the array. "
   ]
  },
  {
   "cell_type": "code",
   "execution_count": 40,
   "id": "5f2e97b8",
   "metadata": {
    "scrolled": false
   },
   "outputs": [
    {
     "name": "stdout",
     "output_type": "stream",
     "text": [
      "[[71.32390587 48.79948009 37.54735667 74.99100563 59.03906666 51.18722392\n",
      "  57.60427875 49.4506074  58.36331699 50.75979349 70.64272136 98.67267884\n",
      "  36.70804712 36.41454463 36.61811493 86.4836955  32.73202743]\n",
      " [76.89367655 85.30480899 66.17109451 47.74967102 78.49776597 35.58478036\n",
      "  43.64166756 40.11418862 84.55259176 40.09236825 42.87723047 33.18966593\n",
      "  42.7180741  79.55355673 31.2982508  42.8134184  56.48029954]\n",
      " [89.10303587 54.57123445 59.76187616 48.92547569 37.60713797 76.55465906\n",
      "  76.2158252  89.68321256 81.40605642 42.13909368 86.09781533 64.90236461\n",
      "  89.73822039 69.67266815 66.10148002 61.29090996 96.63047795]\n",
      " [91.93924299 91.29322588 64.71943056 79.59163331 32.04860655 76.49050601\n",
      "  90.99933441 94.89071696 35.47368997 87.80205857 87.13440938 74.73814596\n",
      "  98.19021437 84.83654109 65.66751859 64.3927799  94.67116293]\n",
      " [63.57544118 90.53980926 91.71718043 92.91025587 48.45056934 45.60296945\n",
      "  50.21746115 95.61719753 67.79242423 89.48823027 75.89250525 98.81744236\n",
      "  58.00635912 61.01869148 69.12840949 44.09386161 50.79061715]\n",
      " [49.7075454  93.78168833 84.39690208 75.28609563 43.22192186 78.12519746\n",
      "  88.35175791 84.702547   83.53513288 32.80341771 93.13983935 47.46408581\n",
      "  32.72619163 53.62671989 37.2588536  40.53637285 80.74542989]\n",
      " [62.52415051 79.85317207 52.75329117 73.40737606 53.94673179 65.93898241\n",
      "  77.606702   95.83083936 34.32988487 92.12492552 84.11561581 32.55785651\n",
      "  34.11514074 81.40365072 57.58077484 40.93280219 50.88124239]\n",
      " [73.94823065 58.21999966 52.97218018 90.30216946 85.5193775  85.96234658\n",
      "  85.38865457 57.697903   62.32144223 96.54773822 54.15028402 62.24124208\n",
      "  67.51642094 48.66510865 85.09263811 84.23510291 44.90015478]\n",
      " [34.22506436 51.38068595 58.36734544 82.05358336 45.37936204 73.21365914\n",
      "  74.72050083 39.24306093 68.11789311 45.8525963  96.45073745 33.85709514\n",
      "  54.34756714 91.76579859 43.44204872 31.0038037  60.79870872]\n",
      " [32.72620213 80.56139895 73.45472251 65.32406863 98.58409333 87.255953\n",
      "  56.12137556 39.14259556 50.4185659  83.08716466 95.09044829 68.27943456\n",
      "  67.80342672 48.11470901 56.22988894 61.1524124  64.15539487]\n",
      " [91.98675111 75.83881324 89.3058957  82.71702109 58.34348937 83.54220726\n",
      "  64.94527142 97.59146418 97.6403919  59.33673794 55.94606236 51.89339197\n",
      "  65.94216362 78.90328929 97.12859562 62.71195318 48.97614497]\n",
      " [30.18146684 90.25295406 34.47944324 38.1869019  44.66051053 90.13890759\n",
      "  65.00429505 74.42887202 79.29258607 97.37058788 87.90505026 75.35207278\n",
      "  64.93652472 70.40820623 36.90654356 31.77808229 93.49593184]\n",
      " [64.01855642 84.98595942 99.07342228 49.57021274 91.22814777 30.68240244\n",
      "  30.91181884 59.12272378 79.0162319  36.13281282 46.0770405  99.80919932\n",
      "  53.90670457 38.32018157 68.93119736 71.61287388 56.04911568]\n",
      " [75.66641192 53.28541005 44.40616297 55.19990104 59.17667669 57.74615455\n",
      "  46.36010597 78.92064721 45.51111243 72.68699463 32.39265807 42.58977107\n",
      "  86.50229066 34.38925689 81.97906703 45.81529694 32.04191183]\n",
      " [67.74525669 65.46201418 62.21318592 76.31898072 82.94825674 56.88325776\n",
      "  49.88771927 82.19639047 86.53569648 96.7784442  91.06478423 31.2731268\n",
      "  88.97077344 50.83195929 67.55553819 84.3366808  57.51790074]\n",
      " [32.51407989 93.68749629 86.06630052 53.26110804 50.93934775 30.64707255\n",
      "  68.53284253 89.54273361 74.3400488  64.27097711 72.42510351 99.2083405\n",
      "  46.2801855  88.22174339 45.60621545 34.08336193 89.82539244]\n",
      " [97.64392439 61.92964527 46.23210256 34.19226119 97.56709318 46.73449569\n",
      "  51.75947131 78.97340406 54.19570994 86.48427439 77.69124042 39.7221836\n",
      "  95.18587748 35.91500935 38.83913281 51.69915922 54.95884558]]\n"
     ]
    }
   ],
   "source": [
    "# TODO: implement here\n",
    "\n",
    "#Dimension of Array\n",
    "s = (17,17)\n",
    "\n",
    "#Arrays\n",
    "zeroArray = np.zeros(s)\n",
    "randArray = np.random.uniform(30,100,s)\n",
    "print(randArray)\n",
    "\n"
   ]
  },
  {
   "cell_type": "markdown",
   "id": "a014f710",
   "metadata": {},
   "source": [
    "## P4: solving a system of linear equations with numpy\n",
    "* Consider a system of 17 linear equations. \n",
    "* The parameters of the unknowns are the same as the array A created above.\n",
    "* The left side of the equations is all 25.0 for each equation. Create a vector b for this. \n",
    "* Solve this system of equations using numpy.linalg.solve. Print out the solutions.\n",
    "* Solve the save system of equations, by taking the inverse of the A array and left multipying b with it. Print out the solutions. \n",
    "* Check if the solutions are identical and print \"Solutions are identical\" if they are and \"Solutions are not identical\" if they are not. Discuss it in form of comments in the code. \n"
   ]
  },
  {
   "cell_type": "code",
   "execution_count": 44,
   "id": "6bf4d2d1",
   "metadata": {},
   "outputs": [
    {
     "name": "stdout",
     "output_type": "stream",
     "text": [
      "Solution using numpy.linalg.solve:\n",
      "[-0.01994125  0.08778174 -0.38755544  0.36705521  0.32701697  0.00245953\n",
      " -0.16309578  0.18826012 -0.02738328 -0.24559955 -0.01824164  0.06956964\n",
      "  0.02697882  0.04674653  0.06658655 -0.15437318  0.19937249]\n",
      "\n",
      "Solution using inverse:\n",
      "[-0.01994125  0.08778174 -0.38755544  0.36705521  0.32701697  0.00245953\n",
      " -0.16309578  0.18826012 -0.02738328 -0.24559955 -0.01824164  0.06956964\n",
      "  0.02697882  0.04674653  0.06658655 -0.15437318  0.19937249]\n",
      "\n",
      "Solutions are identical.\n"
     ]
    }
   ],
   "source": [
    "# TODO: implement here\n",
    "\n",
    "vector_b = np.full(17,25.0)\n",
    "solution = np.linalg.solve(randArray,vector_b)\n",
    "\n",
    "#inverse\n",
    "inverse = np.linalg.inv(randArray)\n",
    "solution_inv = np.dot(inverse,vector_b)\n",
    "\n",
    "# Print out the solutions\n",
    "print(\"Solution using numpy.linalg.solve:\")\n",
    "print(solution)\n",
    "\n",
    "print(\"\\nSolution using inverse:\")\n",
    "print(solution_inv)\n",
    "\n",
    "# Condition for identical\n",
    "if np.allclose(solution, solution_inv):\n",
    "    print(\"\\nSolutions are identical.\")\n",
    "else:\n",
    "    print(\"\\nSolutions are not identical.\")\n"
   ]
  },
  {
   "cell_type": "markdown",
   "id": "acd1cb25",
   "metadata": {},
   "source": [
    "## P5: create a pandas dataframe by reading a csv file\n",
    "* Read in the \"houses_Madrid.csv\" dataset which contains information about houses and apartments sold in Madrid, and create a pandas dataframe called \"df\"\n",
    "* Print out the number of rows in the dataframe\n",
    "* Print out the columns of the dataframe\n"
   ]
  },
  {
   "cell_type": "code",
   "execution_count": 48,
   "id": "2b3f814f",
   "metadata": {},
   "outputs": [
    {
     "name": "stdout",
     "output_type": "stream",
     "text": [
      "Number of rows:  21742\n",
      "Number of cols:  58\n"
     ]
    }
   ],
   "source": [
    "# TODO: implement here\n",
    "\n",
    "#Import data\n",
    "df = pd.read_csv(\"houses_Madrid.csv\")\n",
    "\n",
    "\n",
    "print(\"Number of rows: \", df.shape[0])\n",
    "print(\"Number of cols: \", df.shape[1])"
   ]
  },
  {
   "cell_type": "markdown",
   "id": "db89d894",
   "metadata": {},
   "source": [
    "## P6: Selecting columns from a pandas dataframe and calculating values\n",
    "* Select the \"buy_price\" column from the dataframe. \n",
    "* Calculate the average buying price and print it out. \n",
    "* Calculate the maximum buying price and print it out."
   ]
  },
  {
   "cell_type": "code",
   "execution_count": 55,
   "id": "50bcbc63",
   "metadata": {},
   "outputs": [
    {
     "name": "stdout",
     "output_type": "stream",
     "text": [
      "Max Price: 8800000\n"
     ]
    }
   ],
   "source": [
    "# TODO: implement here\n",
    "\n",
    "#selecting a column\n",
    "df[\"buy_price\"]\n",
    "\n",
    "#calulating average\n",
    "average_price = df[\"buy_price\"].mean()\n",
    "\n",
    "#calculating max\n",
    "max_price = df[\"buy_price\"].max()\n",
    "\n",
    "print(\"Max Price:\",max_price)\n"
   ]
  },
  {
   "cell_type": "markdown",
   "id": "1cff514e",
   "metadata": {},
   "source": [
    "## P7: Selecting rows from a pandas dataframe\n",
    "* Select the rows from df where the price was larger than one million and put it into a new dataframe df2\n",
    "* Print out how many houses were like this. "
   ]
  },
  {
   "cell_type": "code",
   "execution_count": 8,
   "id": "02b9b261",
   "metadata": {},
   "outputs": [],
   "source": [
    "# TODO: implement here\n"
   ]
  },
  {
   "cell_type": "markdown",
   "id": "d4e22835",
   "metadata": {},
   "source": [
    "## P8 - part 1: create a scatterplot in matplotlib\n",
    "* From the df dataset, select the \"sq_mt_built\" and \"buy_price\" columns\n",
    "* Convert them to numpy arrays.\n",
    "* Using the matplotlib.pyplot interface, create a scatterplot of the buying price (on the y axis) against the square meters area (on the x axis)"
   ]
  },
  {
   "cell_type": "code",
   "execution_count": 9,
   "id": "848c94f2",
   "metadata": {},
   "outputs": [],
   "source": [
    "# TODO: implement here\n"
   ]
  },
  {
   "cell_type": "markdown",
   "id": "18d12178",
   "metadata": {},
   "source": [
    "## P8 - part 2: Create a line plot in matplotlib\n",
    "* Take the numpy array arr created in P1. \n",
    "* Plot its 2 and 3 rows using matplotlib pyplot. \n",
    "* The results should be two lines of different colors. The y axis is the values. The x axis is the indexes (0,1,2,...)"
   ]
  },
  {
   "cell_type": "code",
   "execution_count": 10,
   "id": "25790648",
   "metadata": {},
   "outputs": [],
   "source": [
    "# TODO: implement here\n"
   ]
  }
 ],
 "metadata": {
  "kernelspec": {
   "display_name": "Python 3 (ipykernel)",
   "language": "python",
   "name": "python3"
  },
  "language_info": {
   "codemirror_mode": {
    "name": "ipython",
    "version": 3
   },
   "file_extension": ".py",
   "mimetype": "text/x-python",
   "name": "python",
   "nbconvert_exporter": "python",
   "pygments_lexer": "ipython3",
   "version": "3.11.5"
  }
 },
 "nbformat": 4,
 "nbformat_minor": 5
}
